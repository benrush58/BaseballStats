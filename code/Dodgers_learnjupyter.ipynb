{
 "cells": [
  {
   "cell_type": "code",
   "execution_count": 17,
   "id": "6668261f",
   "metadata": {},
   "outputs": [],
   "source": [
    "%matplotlib inline\n",
    "from TeamClass import Team\n",
    "from PlayerClass import Player\n",
    "import matplotlib.pyplot as plt"
   ]
  },
  {
   "cell_type": "code",
   "execution_count": 18,
   "id": "03ab8547",
   "metadata": {},
   "outputs": [],
   "source": [
    "dodgers15 = Team('LAN', '2015')\n",
    "dodgers16 = Team('LAN', '2016')\n",
    "dodgers17 = Team('LAN', '2017')\n",
    "dodgers18 = Team('LAN', '2018')\n",
    "dodgers19 = Team('LAN', '2019')\n",
    "\n",
    "teams = [dodgers15, dodgers16, dodgers17, dodgers18, dodgers19]"
   ]
  },
  {
   "cell_type": "code",
   "execution_count": 19,
   "id": "7ea1c31b",
   "metadata": {},
   "outputs": [
    {
     "data": {
      "image/png": "[encoded data removed]",
      "text/plain": [
       "<Figure size 432x288 with 1 Axes>"
      ]
     },
     "metadata": {
      "needs_background": "light"
     },
     "output_type": "display_data"
    }
   ],
   "source": [
    "win_percent = []\n",
    "ranks = []\n",
    "for team in teams:\n",
    "    win_percent.append(team.return_wins())\n",
    "    ranks.append(team.return_rank())\n",
    "\n",
    "\n",
    "plt.bar([1,2,3,4,5], win_percent) \n",
    "plt.show()"
   ]
  },
  {
   "cell_type": "code",
   "execution_count": 36,
   "id": "0b591d3f",
   "metadata": {},
   "outputs": [
    {
     "ename": "NameError",
     "evalue": "name 'bat' is not defined",
     "output_type": "error",
     "traceback": [
      "\u001b[0;31m---------------------------------------------------------------------------\u001b[0m",
      "\u001b[0;31mNameError\u001b[0m                                 Traceback (most recent call last)",
      "\u001b[0;32m/var/folders/0_/ffrp5xb935jc331fdpk2ddtw0000gn/T/ipykernel_58117/778807326.py\u001b[0m in \u001b[0;36m<module>\u001b[0;34m\u001b[0m\n\u001b[1;32m      5\u001b[0m     \u001b[0;32mexcept\u001b[0m\u001b[0;34m:\u001b[0m\u001b[0;34m\u001b[0m\u001b[0;34m\u001b[0m\u001b[0m\n\u001b[1;32m      6\u001b[0m         \u001b[0;32mpass\u001b[0m\u001b[0;34m\u001b[0m\u001b[0;34m\u001b[0m\u001b[0m\n\u001b[0;32m----> 7\u001b[0;31m     \u001b[0mbatting\u001b[0m\u001b[0;34m.\u001b[0m\u001b[0mappend\u001b[0m\u001b[0;34m(\u001b[0m\u001b[0mbat\u001b[0m\u001b[0;34m)\u001b[0m\u001b[0;34m\u001b[0m\u001b[0;34m\u001b[0m\u001b[0m\n\u001b[0m\u001b[1;32m      8\u001b[0m \u001b[0mprint\u001b[0m\u001b[0;34m(\u001b[0m\u001b[0mbatting\u001b[0m\u001b[0;34m)\u001b[0m\u001b[0;34m\u001b[0m\u001b[0;34m\u001b[0m\u001b[0m\n",
      "\u001b[0;31mNameError\u001b[0m: name 'bat' is not defined"
     ]
    }
   ],
   "source": [
    "batting = []\n",
    "for playerid, player in team.players.items():\n",
    "    try:\n",
    "        bat = player.return_bat_hr('2016')\n",
    "    except:\n",
    "        pass\n",
    "    batting.append(bat)\n",
    "print(batting)"
   ]
  },
  {
   "cell_type": "code",
   "execution_count": 37,
   "id": "bd0cbb37",
   "metadata": {
    "scrolled": false
   },
   "outputs": [
    {
     "ename": "KeyError",
     "evalue": "'2017'",
     "output_type": "error",
     "traceback": [
      "\u001b[0;31m---------------------------------------------------------------------------\u001b[0m",
      "\u001b[0;31mKeyError\u001b[0m                                  Traceback (most recent call last)",
      "\u001b[0;32m/var/folders/0_/ffrp5xb935jc331fdpk2ddtw0000gn/T/ipykernel_58117/3751908045.py\u001b[0m in \u001b[0;36m<module>\u001b[0;34m\u001b[0m\n\u001b[1;32m      1\u001b[0m \u001b[0;32mfor\u001b[0m \u001b[0mplayerid\u001b[0m\u001b[0;34m,\u001b[0m \u001b[0mplayer\u001b[0m \u001b[0;32min\u001b[0m \u001b[0mteam\u001b[0m\u001b[0;34m.\u001b[0m\u001b[0mplayers\u001b[0m\u001b[0;34m.\u001b[0m\u001b[0mitems\u001b[0m\u001b[0;34m(\u001b[0m\u001b[0;34m)\u001b[0m\u001b[0;34m:\u001b[0m\u001b[0;34m\u001b[0m\u001b[0;34m\u001b[0m\u001b[0m\n\u001b[0;32m----> 2\u001b[0;31m     \u001b[0mbat\u001b[0m \u001b[0;34m=\u001b[0m \u001b[0mplayer\u001b[0m\u001b[0;34m.\u001b[0m\u001b[0mreturn_bat_avg\u001b[0m\u001b[0;34m(\u001b[0m\u001b[0;34m'2017'\u001b[0m\u001b[0;34m)\u001b[0m\u001b[0;34m\u001b[0m\u001b[0;34m\u001b[0m\u001b[0m\n\u001b[0m\u001b[1;32m      3\u001b[0m     \u001b[0mprint\u001b[0m\u001b[0;34m(\u001b[0m\u001b[0mbat\u001b[0m\u001b[0;34m)\u001b[0m\u001b[0;34m\u001b[0m\u001b[0;34m\u001b[0m\u001b[0m\n\u001b[1;32m      4\u001b[0m \u001b[0;34m\u001b[0m\u001b[0m\n",
      "\u001b[0;32m~/Desktop/college/BaseballStats/PlayerClass.py\u001b[0m in \u001b[0;36mreturn_bat_avg\u001b[0;34m(self, year)\u001b[0m\n\u001b[1;32m     87\u001b[0m         \u001b[0;31m# return the batting average, either all years or specified year\u001b[0m\u001b[0;34m\u001b[0m\u001b[0;34m\u001b[0m\u001b[0;34m\u001b[0m\u001b[0m\n\u001b[1;32m     88\u001b[0m         \u001b[0;32mif\u001b[0m \u001b[0myear\u001b[0m\u001b[0;34m:\u001b[0m\u001b[0;34m\u001b[0m\u001b[0;34m\u001b[0m\u001b[0m\n\u001b[0;32m---> 89\u001b[0;31m             \u001b[0;32mreturn\u001b[0m \u001b[0mself\u001b[0m\u001b[0;34m.\u001b[0m\u001b[0mbat_avg\u001b[0m\u001b[0;34m[\u001b[0m\u001b[0myear\u001b[0m\u001b[0;34m]\u001b[0m\u001b[0;34m\u001b[0m\u001b[0;34m\u001b[0m\u001b[0m\n\u001b[0m\u001b[1;32m     90\u001b[0m         \u001b[0;32melse\u001b[0m\u001b[0;34m:\u001b[0m\u001b[0;34m\u001b[0m\u001b[0;34m\u001b[0m\u001b[0m\n\u001b[1;32m     91\u001b[0m             \u001b[0;32mreturn\u001b[0m \u001b[0mself\u001b[0m\u001b[0;34m.\u001b[0m\u001b[0mbat_avg\u001b[0m\u001b[0;34m\u001b[0m\u001b[0;34m\u001b[0m\u001b[0m\n",
      "\u001b[0;31mKeyError\u001b[0m: '2017'"
     ]
    }
   ],
   "source": [
    "for playerid, player in team.players.items():\n",
    "    bat = player.return_bat_avg('2017')\n",
    "    print(bat)\n",
    "\n"
   ]
  },
  {
   "cell_type": "code",
   "execution_count": 38,
   "id": "9fa6672b",
   "metadata": {},
   "outputs": [
    {
     "name": "stdout",
     "output_type": "stream",
     "text": [
      "dict_items([('anderbr04', Brett Anderson), ('avilalu01', Luis Avilan), ('baezpe01', Pedro Baez), ('barneau01', Austin Barnes), ('blantjo01', Joe Blanton), ('bolsimi01', Mike Bolsinger), ('chaveje01', Jesse Chavez), ('colemlo01', Louis Coleman), ('crawfca02', Carl Crawford), ('culbech01', Charlie Culberson), ('daytogr01', Grant Dayton), ('deleojo03', Jose De Leon), ('ellisaj01', A. J. Ellis), ('ethiean01', Andre Ethier), ('fieldjo03', Josh Fields), ('fienca01', Casey Fien), ('friasca01', Carlos Frias), ('garciyi01', Yimi Garcia), ('gonzaad01', Adrian Gonzalez), ('grandya01', Yasmani Grandal), ('hatchch02', Chris Hatcher), ('hernaen02', Enrique Hernandez), ('hillri01', Rich Hill), ('howeljp01', J. P. Howell), ('janseke01', Kenley Jansen), ('johnsmi04', Micah Johnson), ('kazmisc01', Scott Kazmir), ('kendrho01', Howie Kendrick), ('kershcl01', Clayton Kershaw), ('liberad01', Adam Liberatore), ('maedake01', Kenta Maeda), ('mccarbr01', Brandon McCarthy), ('norribu01', Bud Norris), ('pederjo01', Joc Pederson), ('puigya01', Yasiel Puig), ('ravinjo01', Josh Ravin), ('reddijo01', Josh Reddick), ('ruizca01', Carlos Ruiz), ('ryuhy01', Hyun Jin Ryu), ('seageco01', Corey Seager), ('segedro01', Rob Segedin), ('stewabr01', Brock Stewart), ('stripro01', Ross Stripling), ('tayloch03', Chris Taylor), ('tepesni01', Nick Tepesch), ('thomptr01', Trayce Thompson), ('tolesan01', Andrew Toles), ('tsaoch01', Chin-hui Tsao), ('turneju01', Justin Turner), ('uriasju01', Julio Urias), ('utleych01', Chase Utley), ('vanslsc01', Scott Van Slyke), ('venabwi01', Will Venable), ('walteza01', Zach Walters), ('woodal02', Alex Wood)])\n"
     ]
    }
   ],
   "source": [
    "print(dodgers16.players.items())"
   ]
  },
  {
   "cell_type": "code",
   "execution_count": 44,
   "id": "30644bb6",
   "metadata": {},
   "outputs": [
    {
     "ename": "NameError",
     "evalue": "name 'bat' is not defined",
     "output_type": "error",
     "traceback": [
      "\u001b[0;31m---------------------------------------------------------------------------\u001b[0m",
      "\u001b[0;31mNameError\u001b[0m                                 Traceback (most recent call last)",
      "\u001b[0;32m/var/folders/0_/ffrp5xb935jc331fdpk2ddtw0000gn/T/ipykernel_58117/4294341868.py\u001b[0m in \u001b[0;36m<module>\u001b[0;34m\u001b[0m\n\u001b[1;32m      4\u001b[0m     \u001b[0;32mexcept\u001b[0m\u001b[0;34m:\u001b[0m\u001b[0;34m\u001b[0m\u001b[0;34m\u001b[0m\u001b[0m\n\u001b[1;32m      5\u001b[0m         \u001b[0;32mpass\u001b[0m\u001b[0;34m\u001b[0m\u001b[0;34m\u001b[0m\u001b[0m\n\u001b[0;32m----> 6\u001b[0;31m     \u001b[0mbatting\u001b[0m\u001b[0;34m.\u001b[0m\u001b[0mappend\u001b[0m\u001b[0;34m(\u001b[0m\u001b[0mbat\u001b[0m\u001b[0;34m)\u001b[0m\u001b[0;34m\u001b[0m\u001b[0;34m\u001b[0m\u001b[0m\n\u001b[0m",
      "\u001b[0;31mNameError\u001b[0m: name 'bat' is not defined"
     ]
    }
   ],
   "source": [
    "for playerid, player in dodgers15.players.items():\n",
    "    try:\n",
    "        bat = player.return_bat_hr('2015')\n",
    "    except:\n",
    "        pass\n",
    "    batting.append(bat)\n"
   ]
  },
  {
   "cell_type": "code",
   "execution_count": null,
   "id": "2c94b9cb",
   "metadata": {},
   "outputs": [],
   "source": []
  }
 ],
 "metadata": {
  "kernelspec": {
   "display_name": "Python 3 (ipykernel)",
   "language": "python",
   "name": "python3"
  },
  "language_info": {
   "codemirror_mode": {
    "name": "ipython",
    "version": 3
   },
   "file_extension": ".py",
   "mimetype": "text/x-python",
   "name": "python",
   "nbconvert_exporter": "python",
   "pygments_lexer": "ipython3",
   "version": "3.8.8"
  }
 },
 "nbformat": 4,
 "nbformat_minor": 5
}
